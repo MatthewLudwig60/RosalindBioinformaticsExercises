{
 "cells": [
  {
   "cell_type": "code",
   "execution_count": 1,
   "id": "fe70c4d4",
   "metadata": {},
   "outputs": [],
   "source": [
    "import numpy as np\n",
    "import pandas as pd"
   ]
  },
  {
   "cell_type": "code",
   "execution_count": 2,
   "id": "53195b44",
   "metadata": {},
   "outputs": [],
   "source": [
    "codons = ['UUU', 'UUC', 'UUA', 'UUG', 'UCU', 'UCC', 'UCA', 'UCG', 'UAU', 'UAC', 'UAA', 'UAG',\n",
    "          'UGU', 'UGC', 'UGA', 'UGG', 'CUU', 'CUC', 'CUA', 'CUG', 'CCU', 'CCC', 'CCA', 'CCG',\n",
    "          'CAU', 'CAC', 'CAA', 'CAG', 'CGU', 'CGC', 'CGA', 'CGG', 'AUU', 'AUC', 'AUA', 'AUG',\n",
    "          'ACU', 'ACC', 'ACA', 'ACG', 'AAU', 'AAC', 'AAA', 'AAG', 'AGU', 'AGC', 'AGA', 'AGG',\n",
    "          'GUU', 'GUC', 'GUA', 'GUG', 'GCU', 'GCC', 'GCA', 'GCG', 'GAU', 'GAC', 'GAA', 'GAG',\n",
    "          'GGU', 'GGC', 'GGA', 'GGG']\n",
    "\n",
    "AAs = ['F', 'F', 'L', 'L', 'S', 'S', 'S', 'S', 'Y', 'Y', 'Stop', 'Stop', 'C', 'C', 'Stop',\n",
    "       'W', 'L', 'L', 'L', 'L', 'P', 'P', 'P', 'P', 'H', 'H', 'Q', 'Q', 'R', 'R', 'R', 'R',\n",
    "       'I', 'I', 'I', 'M', 'T', 'T', 'T', 'T', 'N', 'N', 'K', 'K', 'S', 'S', 'R', 'R', 'V',\n",
    "       'V', 'V', 'V', 'A', 'A', 'A', 'A', 'D', 'D', 'E', 'E', 'G', 'G', 'G', 'G']"
   ]
  },
  {
   "cell_type": "code",
   "execution_count": 3,
   "id": "3c09f592",
   "metadata": {},
   "outputs": [],
   "source": [
    "def split(word):\n",
    "    return[char for char in word]"
   ]
  },
  {
   "cell_type": "code",
   "execution_count": 4,
   "id": "2483d19f",
   "metadata": {},
   "outputs": [],
   "source": [
    "def join(word):\n",
    "    while len(word) > 1:\n",
    "        word[0] = word[0] + word[1]\n",
    "        word.pop(1)\n",
    "    return word"
   ]
  },
  {
   "cell_type": "code",
   "execution_count": 80,
   "id": "68eb323c",
   "metadata": {},
   "outputs": [],
   "source": [
    "def complementary(letters):\n",
    "    num_bases = len(letters)\n",
    "    complementary_letters = []\n",
    "    for i in range(num_bases):\n",
    "        if letters[i] == 'A':\n",
    "            complementary_letters.append('T')\n",
    "        elif letters[i] == 'T':\n",
    "            complementary_letters.append('A')\n",
    "        elif letters[i] == 'G':\n",
    "            complementary_letters.append('C')\n",
    "        elif letters[i] == 'C':\n",
    "            complementary_letters.append('G')\n",
    "    return complementary_letters"
   ]
  },
  {
   "cell_type": "code",
   "execution_count": 81,
   "id": "465bfe4f",
   "metadata": {},
   "outputs": [],
   "source": [
    "def transcribe(data):\n",
    "    letters = split(data)\n",
    "    letters = complementary(letters)\n",
    "    for i in range(len(letters)):\n",
    "        if letters[i] == 'T':\n",
    "            letters[i] = 'U'\n",
    "    word = join(letters)\n",
    "    return(word[0])"
   ]
  },
  {
   "cell_type": "code",
   "execution_count": 88,
   "id": "d936b72c",
   "metadata": {},
   "outputs": [],
   "source": [
    "def triplets(letters):\n",
    "    triplets = []\n",
    "    for i in range(0, len(letters), 3):\n",
    "        dummy = []\n",
    "        dummy.append(letters[i])\n",
    "        dummy.append(letters[i+1])\n",
    "        dummy.append(letters[i+2])\n",
    "        word = join(dummy)\n",
    "        triplets.append(word)\n",
    "    return triplets"
   ]
  },
  {
   "cell_type": "code",
   "execution_count": 89,
   "id": "1f54dfdb",
   "metadata": {},
   "outputs": [],
   "source": [
    "def amino_acid(triplets):\n",
    "    AA_sequence = []\n",
    "    for i in range(len(triplets)):\n",
    "        for j in range(len(codons)):\n",
    "            if triplets[i][0] == codons[j]:\n",
    "                AA_sequence.append(AAs[j])\n",
    "    return(AA_sequence)"
   ]
  },
  {
   "cell_type": "code",
   "execution_count": 108,
   "id": "8f45e978",
   "metadata": {},
   "outputs": [],
   "source": [
    "def translate(data):\n",
    "    letters = split(data)\n",
    "    Triplets = triplets(letters)\n",
    "    AA_sequence = amino_acid(Triplets)\n",
    "    Final_sequence = []\n",
    "    for i in range(len(AA_sequence)):\n",
    "        if AA_sequence[i] == 'Stop':\n",
    "            Final_sequence = AA_sequence[0:(i)]\n",
    "            break\n",
    "        else:\n",
    "            Final_sequence.append(AA_sequence[i])\n",
    "    for i in range(len(Final_sequence)):\n",
    "        try:\n",
    "            Final_sequence = Final_sequence[Final_sequence.index('M'):]\n",
    "            Final_sequence = join(Final_sequence)\n",
    "            return(Final_sequence[0])\n",
    "        except:\n",
    "            return('NaN')"
   ]
  },
  {
   "cell_type": "code",
   "execution_count": 109,
   "id": "a987b799",
   "metadata": {},
   "outputs": [],
   "source": [
    "def process_sequence(DNA_sequence):\n",
    "    mRNA = transcribe(DNA_sequence)\n",
    "    AA_sequence = translate(mRNA)\n",
    "    return(AA_sequence)"
   ]
  },
  {
   "cell_type": "code",
   "execution_count": 110,
   "id": "b1ae1f68",
   "metadata": {},
   "outputs": [],
   "source": [
    "def reverse(data):\n",
    "    letters = split(data)\n",
    "    num_bases = len(letters)\n",
    "    reversed_letters = []\n",
    "    for i in range(num_bases):\n",
    "        position = num_bases - 1 - i\n",
    "        reversed_letters.append(letters[position])\n",
    "    return(reversed_letters)"
   ]
  },
  {
   "cell_type": "code",
   "execution_count": 111,
   "id": "a1a907c9",
   "metadata": {},
   "outputs": [],
   "source": [
    "def reverse_complementary(data):\n",
    "    reversed_letters = reverse(data)\n",
    "    reversed_complementary_letters = complementary(reversed_letters)\n",
    "    return(join(reversed_complementary_letters)[0])"
   ]
  },
  {
   "cell_type": "code",
   "execution_count": 112,
   "id": "72a56d43",
   "metadata": {},
   "outputs": [],
   "source": [
    "def reading_frames(data):\n",
    "    DNA_strings = []\n",
    "    DNA_strings.append(data)\n",
    "    DNA_strings.append(data[1:])\n",
    "    DNA_strings.append(data[2:])\n",
    "    DNA_strings.append(reverse_complementary(data))\n",
    "    DNA_strings.append(reverse_complementary(data[:-1]))\n",
    "    DNA_strings.append(reverse_complementary(data[:-2]))\n",
    "    \n",
    "    for i in range(len(DNA_strings)):\n",
    "        if len(DNA_strings[i]) % 3 == 1:\n",
    "            DNA_strings[i] = DNA_strings[i][:-1]\n",
    "        elif len(DNA_strings[i]) % 3 == 2:\n",
    "            DNA_strings[i] = DNA_strings[i][:-2]\n",
    "    \n",
    "    protein_sequences = []\n",
    "    for i in range(len(DNA_strings)):\n",
    "        protein_sequences.append(process_sequence(DNA_strings[i]))\n",
    "    \n",
    "    for i in range(len(protein_sequences)):\n",
    "        print(protein_sequences[i])"
   ]
  },
  {
   "cell_type": "code",
   "execution_count": 113,
   "id": "2bbbe989",
   "metadata": {},
   "outputs": [
    {
     "name": "stdout",
     "output_type": "stream",
     "text": [
      "MYPYWGAEPNLRENLIRTY\n",
      "NaN\n",
      "NaN\n",
      "MSLVSPNKVFSEIRFSAPVGVHWTQSMYR\n",
      "NaN\n",
      "NaN\n"
     ]
    }
   ],
   "source": [
    "reading_frames('AGCCATGTAGCTAACTCAGGTTACATGGGGATGACCCCGCGACTTGGATTAGAGTCTCTTTTGGAATAAGCCTGAATGATCCGAGTAGCATCTCAG')"
   ]
  },
  {
   "cell_type": "code",
   "execution_count": null,
   "id": "2c877a94",
   "metadata": {},
   "outputs": [],
   "source": []
  }
 ],
 "metadata": {
  "kernelspec": {
   "display_name": "Python 3",
   "language": "python",
   "name": "python3"
  },
  "language_info": {
   "codemirror_mode": {
    "name": "ipython",
    "version": 3
   },
   "file_extension": ".py",
   "mimetype": "text/x-python",
   "name": "python",
   "nbconvert_exporter": "python",
   "pygments_lexer": "ipython3",
   "version": "3.9.5"
  }
 },
 "nbformat": 4,
 "nbformat_minor": 5
}
